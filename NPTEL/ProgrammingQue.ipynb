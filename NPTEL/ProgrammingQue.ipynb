{
 "metadata": {
  "language_info": {
   "codemirror_mode": {
    "name": "ipython",
    "version": 3
   },
   "file_extension": ".py",
   "mimetype": "text/x-python",
   "name": "python",
   "nbconvert_exporter": "python",
   "pygments_lexer": "ipython3",
   "version": "3.9.1-final"
  },
  "orig_nbformat": 2,
  "kernelspec": {
   "name": "python3",
   "display_name": "Python 3.9.1 64-bit",
   "metadata": {
    "interpreter": {
     "hash": "b5843a13e7131a14c3c0e364f0390d6592a995e3082c3f83420ac4385eeb2370"
    }
   }
  }
 },
 "nbformat": 4,
 "nbformat_minor": 2,
 "cells": [
  {
   "cell_type": "code",
   "execution_count": 4,
   "metadata": {},
   "outputs": [],
   "source": [
    "#week 2\n"
   ]
  },
  {
   "cell_type": "code",
   "execution_count": null,
   "metadata": {},
   "outputs": [],
   "source": [
    "#Que 1"
   ]
  },
  {
   "cell_type": "code",
   "execution_count": 2,
   "metadata": {},
   "outputs": [],
   "source": [
    "\"\"\" \n",
    "\n",
    "def isprime(n):\n",
    "  if(n>=1):\n",
    "        factorlist=[]\n",
    "        for i in range (1, n+1):\n",
    "            if(n%i==0):\n",
    "                factorlist=factorlist + [i]\n",
    "        if(len(factorlist)==2):\n",
    "            return(True)\n",
    "        else:\n",
    "            return(False)\n",
    "    else:\n",
    "        return(False)\n",
    "\n",
    "\n",
    "\n",
    "\n",
    "\n",
    "\n",
    "\n",
    "        def primepartition2(m):\n",
    "    if(m<0):\n",
    "        return(False)\n",
    "    n=m\n",
    "    for j in range(1,m,1):\n",
    "        for k in range(n-1,0,-1):\n",
    "            if(j+k==m):\n",
    "                if((isprime(j)==True) and (isprime(k)==True)):\n",
    "                    return(True)\n",
    "                else:\n",
    "                    n=k\n",
    "                    break\n",
    "            else:\n",
    "                return(False)\n",
    "                \n",
    "primepartition2(185)\n",
    "\"\"\"\n",
    "\n",
    "\n",
    "\n",
    "\n",
    "\n",
    "\n"
   ]
  },
  {
   "cell_type": "code",
   "execution_count": 67,
   "metadata": {},
   "outputs": [
    {
     "output_type": "execute_result",
     "data": {
      "text/plain": [
       "False"
      ]
     },
     "metadata": {},
     "execution_count": 67
    }
   ],
   "source": [
    "def isprime(num):\n",
    "    if num > 1:\n",
    "        for i in range(2, num):\n",
    "            if (num % i) == 0:\n",
    "                return(False)\n",
    "                break\n",
    "        else:\n",
    "            return(True)\n",
    "    else:\n",
    "        return(False) \n",
    "isprime(185)    "
   ]
  },
  {
   "cell_type": "code",
   "execution_count": 97,
   "metadata": {},
   "outputs": [
    {
     "output_type": "execute_result",
     "data": {
      "text/plain": [
       "True"
      ]
     },
     "metadata": {},
     "execution_count": 97
    }
   ],
   "source": [
    "def primepartition(m):\n",
    "    if(m<0):\n",
    "        return(False)\n",
    "    for j in range(1,int(m/2)+1,1):\n",
    "        n1=j\n",
    "        n2=m-j\n",
    "        if((isprime(n1)==True) and (isprime(n2)==True)):\n",
    "            return(True)\n",
    "        elif(j<int(m/2)):\n",
    "            continue\n",
    "        else:\n",
    "            return(False)\n",
    "                \n",
    "primepartition(3432)"
   ]
  },
  {
   "cell_type": "code",
   "execution_count": 76,
   "metadata": {},
   "outputs": [
    {
     "output_type": "execute_result",
     "data": {
      "text/plain": [
       "False"
      ]
     },
     "metadata": {},
     "execution_count": 76
    }
   ],
   "source": [
    "def primepartition(m):\n",
    "    if(m<0):\n",
    "        return(False)\n",
    "    for j in range(1,m,1):\n",
    "        for k in range(m-1,0,-1):\n",
    "            if(j+k==m):\n",
    "                if((isprime(j)==True) and (isprime(k)==True)):\n",
    "                    return(True)\n",
    "                elif(k>1 and j<m):\n",
    "                    continue\n",
    "                else:\n",
    "                    return(False)\n",
    "primepartition(185)"
   ]
  },
  {
   "cell_type": "code",
   "execution_count": 123,
   "metadata": {},
   "outputs": [],
   "source": [
    "# Que 2"
   ]
  },
  {
   "cell_type": "code",
   "execution_count": 150,
   "metadata": {},
   "outputs": [
    {
     "output_type": "execute_result",
     "data": {
      "text/plain": [
       "True"
      ]
     },
     "metadata": {},
     "execution_count": 150
    }
   ],
   "source": [
    "def matched(s):\n",
    "    strlist=[]\n",
    "    checklist=[]\n",
    "    for i in s:\n",
    "        strlist=strlist+[i]\n",
    "\n",
    "    for j in strlist:\n",
    "        if(j==\"(\"):\n",
    "            checklist=checklist+[\"(\"]\n",
    "        elif(j==\")\"):\n",
    "            if(len(checklist)>0):\n",
    "                checklist.pop(len(checklist)-1)\n",
    "    if(len(checklist)==0):\n",
    "        return(True)\n",
    "    else:\n",
    "        return(False)\n",
    "\n",
    "\n",
    "\n",
    "s=input()\n",
    "matched(s)"
   ]
  },
  {
   "cell_type": "code",
   "execution_count": 151,
   "metadata": {},
   "outputs": [],
   "source": [
    "# Que 3"
   ]
  },
  {
   "cell_type": "code",
   "execution_count": 160,
   "metadata": {},
   "outputs": [
    {
     "output_type": "execute_result",
     "data": {
      "text/plain": [
       "[3, 4, 5, 1, 2]"
      ]
     },
     "metadata": {},
     "execution_count": 160
    }
   ],
   "source": [
    "def rotatelist(l,k):\n",
    "    if(k<0):\n",
    "        return(l)\n",
    "    lst=l[:]\n",
    "    for i in range(1,k+1):\n",
    "        lst.append(lst[0])\n",
    "        lst.pop(0)\n",
    "    return(lst)\n",
    "\n",
    "\n",
    "rotatelist([1,2,3,4,5],12)"
   ]
  },
  {
   "cell_type": "code",
   "execution_count": null,
   "metadata": {},
   "outputs": [],
   "source": []
  }
 ]
}